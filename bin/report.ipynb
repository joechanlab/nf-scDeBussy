{
 "cells": [
  {
   "cell_type": "code",
   "execution_count": 1,
   "id": "9d4dadf8-1697-4fe3-8275-5f85931af75d",
   "metadata": {},
   "outputs": [],
   "source": [
    "import pandas as pd\n",
    "import numpy as np\n",
    "import matplotlib.pyplot as plt\n",
    "import scDeBussy\n",
    "from scDeBussy.pl import *\n",
    "import seaborn as sns\n",
    "from matplotlib.colors import LogNorm\n",
    "import pandas as pd\n",
    "import matplotlib.pyplot as plt\n",
    "import PyComplexHeatmap as pch\n",
    "from sklearn.neighbors import KernelDensity"
   ]
  },
  {
   "cell_type": "code",
   "execution_count": null,
   "id": "6d35d66b-08f0-455c-82b8-44de6db21374",
   "metadata": {},
   "outputs": [],
   "source": [
    "summary_df = pd.read_csv(summary_df_path, index_col=0)\n",
    "gene_curves = pd.read_csv(aggregated_curves_path, index_col=0)\n",
    "scores_df = pd.read_csv(scores_df_path, index_col=0)\n",
    "hvg_df = pd.read_csv(hvg_df_path, sep=\"\\t\")\n",
    "hvg_df.columns = [\"gene\", \"rank\", \"batches\"]\n",
    "clusters = cluster_ordering.split(\"_\")\n",
    "cluster_cutoff = [i/len(clusters) for i in range(len(clusters) - 1)]\n",
    "color_map = {'NSCLC': 'gold',\n",
    "             'SCLC-A': 'tab:red',\n",
    "             'SCLC-N': 'tab:cyan'}\n",
    "colors = [color_map[x] for x in clusters]"
   ]
  },
  {
   "cell_type": "code",
   "execution_count": null,
   "id": "24b5dade",
   "metadata": {},
   "outputs": [],
   "source": [
    "scores_df.sort_values(['GCV'], ascending=[True]).merge(hvg_df, on='gene').head(n=50)"
   ]
  },
  {
   "cell_type": "code",
   "execution_count": null,
   "id": "89bb2c15-c7d5-4b11-82bb-b9f2436ee592",
   "metadata": {},
   "outputs": [],
   "source": [
    "\n",
    "sorted_gene_curve, row_colors, col_colors, categories = scDeBussy.process_gene_data(scores_df, gene_curves, colors, cluster_cutoff,\n",
    "                                                                                       n_clusters=3, n_init=1, MI_threshold=0.5,\n",
    "                                                                                       GCV_threshold=0.98, \n",
    "                                                                                       label_names=['Early', 'Middle', 'Late'])\n",
    "print(f\"{sorted_gene_curve.shape[0]} genes left after filtering.\")\n",
    "plot_kshape_clustering(sorted_gene_curve, categories, ['Early', 'Middle', 'Late'], alpha=0.01)"
   ]
  },
  {
   "cell_type": "code",
   "execution_count": null,
   "id": "b36c7daf-b884-4d11-9e81-41957c54186b",
   "metadata": {},
   "outputs": [],
   "source": [
    "gene_info = pd.DataFrame({'gene': sorted_gene_curve.index, 'category': categories})\n",
    "gene_sets = ['CellMarker_2024']\n",
    "results = pd.DataFrame()  # Initialize an empty DataFrame to store results\n",
    "\n",
    "for category in gene_info.category.unique():\n",
    "    gene_list = gene_info.gene[gene_info.category == category]\n",
    "    results_category = scDeBussy.enrichr(gene_list, gene_sets)\n",
    "    results_category.loc[:,'category'] = category\n",
    "    results = pd.concat([results, results_category])\n",
    "    \n",
    "results.loc[:,'overlap'] = results.Overlap.apply(lambda x: int(x.split('/')[0]))\n",
    "results = results[(results['Adjusted P-value'] < 0.05) & (results['overlap'] > 10)]\n",
    "results = results.drop_duplicates(subset=\"Genes\")\n",
    "pd.set_option('display.max_rows', None)\n",
    "gene_sets = results.sort_values(by=[\"category\", \"Odds Ratio\"], ascending = [True, False]).reset_index(drop=True)\n",
    "gene_sets.to_csv(f\"{cluster_ordering}_enrichR.csv\")"
   ]
  },
  {
   "cell_type": "code",
   "execution_count": null,
   "id": "b396dde9-ccdd-4280-a3ad-4c8bcb69f54e",
   "metadata": {},
   "outputs": [],
   "source": [
    "gene_sets.groupby('category').apply(lambda x: x.sort_values(by='Combined Score', ascending=False).head(5))"
   ]
  },
  {
   "cell_type": "code",
   "execution_count": null,
   "id": "27a7898b",
   "metadata": {},
   "outputs": [],
   "source": [
    "genes = gene_sets['Genes'].str.split(';').explode().str.strip().unique()\n",
    "gene_to_terms = {}\n",
    "for index, row in gene_sets.iterrows():\n",
    "    term = row['Term']\n",
    "    genes = row['Genes'].split(';')\n",
    "    combined_score = row['Combined Score']\n",
    "    for gene in genes:\n",
    "        if gene not in gene_to_terms:\n",
    "            gene_to_terms[gene] = {'term': term}\n",
    "        else:\n",
    "            gene_to_terms[gene]['term'] = gene_to_terms[gene]['term'] + ';' + term\n",
    "final_gene_to_term = {gene: info['term'] for gene, info in gene_to_terms.items()}\n",
    "sorted_gene_curve_with_annot = sorted_gene_curve.copy()\n",
    "sorted_gene_curve_with_annot.loc[:,'gene_sets'] = sorted_gene_curve_with_annot.index.map(final_gene_to_term)\n",
    "sorted_gene_curve_with_annot.loc[:,'cluster'] = row_colors.values\n",
    "\n",
    "cell_type_colors = {\n",
    "    'NSCLC': 'gold', 'SCLC-A': 'tab:red', 'SCLC-N': 'tab:cyan'\n",
    "}\n",
    "cell_types = col_colors.map(lambda x: 'NSCLC' if x == 0 else 'SCLC-A' if x == 1 else 'SCLC-N')\n",
    "clusters = row_colors\n",
    "cluster_colors = {}\n",
    "for i, category in enumerate(gene_info['category'].unique()):\n",
    "    cluster_colors[category] = plt.get_cmap('viridis')(i / len(gene_info['category'].unique()))\n",
    "\n",
    "df_right = sorted_gene_curve_with_annot['gene_sets']\n",
    "df_right.index = sorted_gene_curve.index\n",
    "df_left = sorted_gene_curve_with_annot['cluster']\n",
    "df_left.index = sorted_gene_curve.index"
   ]
  },
  {
   "cell_type": "code",
   "execution_count": null,
   "id": "6d31eb0c",
   "metadata": {},
   "outputs": [],
   "source": [
    "density = None\n",
    "left_annotation_columns = None"
   ]
  },
  {
   "cell_type": "raw",
   "id": "db3bef85",
   "metadata": {
    "vscode": {
     "languageId": "raw"
    }
   },
   "source": [
    "# Uncomment and fill in for the left-side annotation\n",
    "names = ['Secretory', 'Basal', 'Astrocyte', 'Cycling_Basal', 'Neuron', \"Neuroendocrine\"]\n",
    "col_names = ['Krt4/13+ Cell Trachea Mouse', 'Basal Cell Lung Human', 'Astrocyte Brain Human', 'Cycling Basal Cell Trachea Mouse', 'Neuron Brain Mouse', 'Neuroendocrine Cell Trachea Mouse']\n",
    "cmap_names = ['early', 'early', 'middle', 'middle', 'late', 'late']\n",
    "density = fit_kde(sorted_gene_curve, df_right, cell_types, bandwidth=100)\n",
    "plot_kde_density(density)\n",
    "left_annotation_columns = zip(names, col_names, cmap_names)"
   ]
  },
  {
   "cell_type": "code",
   "execution_count": null,
   "id": "9752ca81",
   "metadata": {},
   "outputs": [],
   "source": [
    "plot_kde_heatmap(cluster_colors, cell_types, cell_type_colors, sorted_gene_curve, df_left, density, left_annotation_columns)"
   ]
  }
 ],
 "metadata": {
  "kernelspec": {
   "display_name": "Python 3",
   "language": "python",
   "name": "python3"
  },
  "language_info": {
   "codemirror_mode": {
    "name": "ipython",
    "version": 3
   },
   "file_extension": ".py",
   "mimetype": "text/x-python",
   "name": "python",
   "nbconvert_exporter": "python",
   "pygments_lexer": "ipython3",
   "version": "3.12.6"
  }
 },
 "nbformat": 4,
 "nbformat_minor": 5
}
